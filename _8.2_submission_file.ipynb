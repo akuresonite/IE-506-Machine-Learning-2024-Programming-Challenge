{
 "cells": [
  {
   "cell_type": "code",
   "execution_count": 1,
   "metadata": {},
   "outputs": [],
   "source": [
    "import os\n",
    "import numpy as np\n",
    "import pandas as pd\n",
    "import sys\n",
    "import joblib\n",
    "from tqdm import tqdm\n",
    "from timeit import default_timer as timer\n",
    "from matplotlib import pyplot as plt\n",
    "from scipy.sparse import csr_matrix, save_npz, load_npz\n",
    "from sklearn.model_selection import train_test_split\n",
    "from sklearn.metrics import accuracy_score, f1_score, classification_report, make_scorer\n",
    "from sklearn.linear_model import LogisticRegression\n",
    "from sklearn.model_selection import GridSearchCV\n",
    "from sklearn.ensemble import VotingClassifier\n",
    "from sklearn.neural_network import MLPClassifier\n",
    "from sklearn.multioutput import MultiOutputClassifier\n",
    "from time import sleep\n",
    "import subprocess"
   ]
  },
  {
   "cell_type": "code",
   "execution_count": 5,
   "metadata": {},
   "outputs": [],
   "source": [
    "dataset_path = r\"/home/23m1521/ashish/Kaggle/_3_IE506_2024_Programming_Challenge/dataset\"\n",
    "train_txt_path  = r\"/home/23m1521/ashish/Kaggle/_3_IE506_2024_Programming_Challenge/dataset/IE506_2024_progchallenge_train.txt\"\n",
    "test_txt_path = r\"/home/23m1521/ashish/Kaggle/_3_IE506_2024_Programming_Challenge/dataset/IE506_2024_progchallenge_test.txt\"\n",
    "load_features_path = \"/home/23m1521/ashish/Kaggle/_3_IE506_2024_Programming_Challenge/dataset/csr_feature.npz\"\n",
    "load_labels_path = \"/home/23m1521/ashish/Kaggle/_3_IE506_2024_Programming_Challenge/dataset/csr_label.npz\"\n",
    "load_cols_F_path = \"/home/23m1521/ashish/Kaggle/_3_IE506_2024_Programming_Challenge/dataset/cols_F.joblib\"\n",
    "load_cols_C_path = \"/home/23m1521/ashish/Kaggle/_3_IE506_2024_Programming_Challenge/dataset/cols_C.joblib\"\n",
    "load_features_sub_path = r\"/home/23m1521/ashish/Kaggle/_3_IE506_2024_Programming_Challenge/dataset/csr_feature_sub.npz\"\n",
    "model_save_path = r\"/home/23m1521/ashish/Kaggle/_3_IE506_2024_Programming_Challenge/models/models/\""
   ]
  },
  {
   "cell_type": "code",
   "execution_count": 6,
   "metadata": {},
   "outputs": [
    {
     "name": "stdout",
     "output_type": "stream",
     "text": [
      "features_arr:  (200000, 47236)\n",
      "labels_arr:  (200000, 41)\n",
      "cols_F:  47236\n",
      "cols_C:  41\n",
      "X_sub:  (150000, 47236)\n",
      "loaded..........................\n"
     ]
    }
   ],
   "source": [
    "features_arr = load_npz(load_features_path); print(\"features_arr: \", features_arr.shape)\n",
    "labels_arr = load_npz(load_labels_path); print(\"labels_arr: \", labels_arr.shape)\n",
    "cols_F = joblib.load(load_cols_F_path); print(\"cols_F: \", len(cols_F))\n",
    "cols_C = joblib.load(load_cols_C_path); print(\"cols_C: \", len(cols_C))\n",
    "X_sub = load_npz(load_features_sub_path); print(\"X_sub: \", X_sub.shape)\n",
    "print(\"loaded..........................\")"
   ]
  },
  {
   "cell_type": "markdown",
   "metadata": {},
   "source": [
    "\\\\\\\\\\\\\\\\\\\\\\\\\\\\\\\\\\\\\\\\\\\\\\\\\\\\\\\\\\\\\\\\\\\\\\\\\\\\\\\\\\\\\\\\\\\\\\\\\\\\\\\\\\\\\\\\\\\\\\\\\\\\\\\\\\\\\\\\\\\\\\\\\\\\\\\\\\\\\\\\\\\\\\\\\\\\\\\\\\\\\\\\\\\\\\\\\\\\\\\\\\\\\\\\\\\\\\\\\\\\\\\\\\\\\\\\\\\\\\\\\\\\\\\\\\\\\\\\\\\\\\\\\\\\\\\\\\\\\\\\\\\\\\\\\\\\\\\\\\\\\\\\\\\\\\\\\\\\\\\\\\\\\\\\\\\\\\\\\\\\\\\\\\\\\\\\\\\\\\\\\\\\\\\\\\\\\\\\\\\\\\\\\\\\\\\\\\\\\\\\\\\\\\\\\\\\\\\\\\\\\\\\\\\\\\\\\\\\\\\\\\\\\\\\\\\\\\\\\\\\\\\\\\\\\\\\\\\\\\\\\\\\\\\\\\\\\\\\\\\\\\\\\\\\\\\\\\\\\\\\\\\\\\\\\\\\\\\\\\\\\\\\\\\\\\\\\\\\\\\\\\\\\\\\\\\\\\\\\\\\\\\\\\\\\\\\\\\\\\\\\\\\\\\\\\\\\\\\\\\\\\\\\\\\\\\\\\\\\\\\\\\\\\\\\\\\\\\\\\\\\\\\\\\\\\\\\\\\\\\\\\\\\\\\\\\\\\\\\\\\\\\\\\\\\\\\\\\\\\\\\\\\\\\\\\\\\\\\\\\\\\\\\\\\\\\\\\\\\\\\\\"
   ]
  },
  {
   "cell_type": "code",
   "execution_count": 7,
   "metadata": {},
   "outputs": [
    {
     "name": "stdout",
     "output_type": "stream",
     "text": [
      "-----------------------Loading Model MOCCGS_L2LR----------------------------------------------\n"
     ]
    }
   ],
   "source": [
    "MODEL_NAME = \"MOCCGS_L2LR\"\n",
    "\n",
    "print(f\"-----------------------Loading Model {MODEL_NAME}----------------------------------------------\")\n",
    "clf = joblib.load(f\"{model_save_path}/{MODEL_NAME}.joblib\")\n",
    "# print(f\"Size of clf: {sys.getsizeof(clf)/(1024**3)}\")"
   ]
  },
  {
   "cell_type": "code",
   "execution_count": null,
   "metadata": {},
   "outputs": [],
   "source": [
    "print(\"-------------------------Doing Prediction--------------------------------------------\")\n",
    "X_train = features_arr\n",
    "Y_train = np.squeeze(labels_arr.toarray())\n",
    "train_pred = clf.predict(X_train)\n",
    "sub_pred = clf.predict(X_sub)"
   ]
  },
  {
   "cell_type": "code",
   "execution_count": null,
   "metadata": {},
   "outputs": [],
   "source": [
    "print(\"------------------------------Calculating Accuracy---------------------------------------\")\n",
    "train_acc = 100*np.sum(np.sum((train_pred == Y_train), axis=1)/train_pred.shape[1])/train_pred.shape[0]\n",
    "print(f\"Train acc: {train_acc} %\")\n",
    "\n",
    "\n",
    "print(\"--------------------------Calculating Acc and F1-------------------------------------------\")\n",
    "print(str(\"train_acc\").ljust(20), str(\"train_f1\").ljust(20))\n",
    "for i in range(train_pred.shape[1]):\n",
    "    train_acc = 100*accuracy_score(Y_train[:,i], train_pred[:, i])\n",
    "    train_f1 = 100*f1_score(Y_train[:,i], train_pred[:, i], average='micro')\n",
    "    \n",
    "    if i<9:\n",
    "        print(f\" {i+1}\", str(train_acc).ljust(20), str(train_f1).ljust(20))\n",
    "    else:\n",
    "        print(i+1, str(train_acc).ljust(20), str(train_f1).ljust(20))    "
   ]
  },
  {
   "cell_type": "code",
   "execution_count": 18,
   "metadata": {},
   "outputs": [
    {
     "name": "stdout",
     "output_type": "stream",
     "text": [
      "--------------------------Making Submission File-------------------------------------------\n"
     ]
    },
    {
     "name": "stderr",
     "output_type": "stream",
     "text": [
      "/home/23m1521/miniconda3/envs/sklearn-env/lib/python3.12/site-packages/xgboost/core.py:160: UserWarning: [02:48:27] WARNING: /workspace/src/gbm/gbtree.cc:385: Changing updater from `grow_gpu_hist` to `grow_quantile_histmaker`.\n",
      "  warnings.warn(smsg, UserWarning)\n",
      "/home/23m1521/miniconda3/envs/sklearn-env/lib/python3.12/site-packages/xgboost/core.py:160: UserWarning: [02:48:27] WARNING: /workspace/src/context.cc:44: No visible GPU is found, setting device to CPU.\n",
      "  warnings.warn(smsg, UserWarning)\n"
     ]
    },
    {
     "name": "stdout",
     "output_type": "stream",
     "text": [
      "No of mispred:  0\n",
      "            ID        M   S\n",
      "0            0  ['100']  []\n",
      "1            1  ['100']  []\n",
      "2            2  ['100']  []\n",
      "3            3       []  []\n",
      "4            4       []  []\n",
      "...        ...      ...  ..\n",
      "149995  149995       []  []\n",
      "149996  149996       []  []\n",
      "149997  149997  ['100']  []\n",
      "149998  149998  ['100']  []\n",
      "149999  149999       []  []\n",
      "\n",
      "[150000 rows x 3 columns]\n"
     ]
    }
   ],
   "source": [
    "print(\"--------------------------Making Submission File-------------------------------------------\")\n",
    "def make_submission_csv(pred_matrix, Class_arr, savename, break_=True):\n",
    "    open(f\"{dataset_path}/{savename}.csv\", 'w').write(\"ID,M,S\\n\")\n",
    "    mispred_count = 0\n",
    "    with open(f\"{dataset_path}/{savename}.csv\", 'a') as f:\n",
    "        for i in range(pred_matrix.shape[0]):\n",
    "            M_list, S_list = [], []\n",
    "            sample_pred = pred_matrix[i,:]\n",
    "            for j,(label,pred) in enumerate(zip(Class_arr, sample_pred)):\n",
    "                Class, idx  = label.split(\"_\")\n",
    "                # print(i, j, label, pred, Class, idx)\n",
    "                if (Class == 'M') and (pred != 0):\n",
    "                    M_list.append(int(idx))\n",
    "                elif (Class == 'S') and (pred != 0):\n",
    "                    S_list.append(int(idx))\n",
    "\n",
    "            S_list_idx = [entry for entry in range(0, len(S_list))]\n",
    "            for m in M_list:\n",
    "                a = m + 1\n",
    "                b = m + 99\n",
    "                for sid, s in enumerate(S_list):\n",
    "                    if (a <= s <= b):\n",
    "                        S_list_idx.remove(sid)\n",
    "                        \n",
    "            S_list = np.array(S_list)\n",
    "            S_list_idx = np.array(S_list_idx)\n",
    "            mispred_count += len(S_list_idx)\n",
    "            if len(S_list_idx) != 0:\n",
    "                print(f\"{i}, {M_list}, {S_list}, Invalid S: {S_list[S_list_idx]}---------------------------------------------------------------------------\")\n",
    "                \n",
    "            if len(S_list_idx) != 0:\n",
    "                print([S_list[i] for i in range(len(S_list)) if i not in S_list_idx])\n",
    "                \n",
    "            S_list = [S_list[i] for i in range(len(S_list)) if i not in S_list_idx]\n",
    "            \n",
    "            M_list = [f\"{m}\" for m in M_list]\n",
    "            S_list = [f\"{s}\" for s in S_list]\n",
    "            if (len(M_list) > 1) or (len(S_list) > 1):\n",
    "                M_list = f\"\\\"{M_list}\\\"\"\n",
    "                S_list = f\"\\\"{S_list}\\\"\"\n",
    "            file_entry = f\"{i},{M_list},{S_list}\"\n",
    "            # print(file_entry)\n",
    "            f.write(f\"{file_entry}\\n\")\n",
    "            if (i == 4) and break_:\n",
    "                break\n",
    "    print(\"No of mispred: \", mispred_count)\n",
    "    print(pd.read_csv(f\"{dataset_path}/{savename}.csv\"))\n",
    "\n",
    "# voting_preds = np.load(f\"{dataset_path}/voting_preds.npy\")[0]\n",
    "# make_submission_csv(voting_preds, cols_C, f\"submission_voting_MOCCGS_L2LR_MOclfGB_MOclfL2LR_MOCCGS_L1LR_liblinear\", break_=False)\n",
    "clf = joblib.load(\"/home/23m1521/ashish/Kaggle/_3_IE506_2024_Programming_Challenge/models/models/CCXGB_102.joblib\")\n",
    "pred_maxtri = clf.predict(X_sub)\n",
    "make_submission_csv(pred_maxtri, cols_C, f\"submission_CCXGB_102\", break_=False)"
   ]
  },
  {
   "cell_type": "code",
   "execution_count": 19,
   "metadata": {},
   "outputs": [
    {
     "name": "stdout",
     "output_type": "stream",
     "text": [
      "kaggle competitions submit -c ie-506-2024-programming-challenge -f \"/home/23m1521/ashish/Kaggle/_3_IE506_2024_Programming_Challenge/dataset/submission_CCXGB_102.csv\" -m submission_CCXGB_102\n"
     ]
    }
   ],
   "source": [
    "cmd1 = f\"kaggle competitions leaderboard ie-506-2024-programming-challenge -s\"\n",
    "cmd2 = f'kaggle competitions submit -c ie-506-2024-programming-challenge -f \"/home/23m1521/ashish/Kaggle/_3_IE506_2024_Programming_Challenge/dataset/submission_CCXGB_102.csv\" -m submission_CCXGB_102'\n",
    "print(cmd2)"
   ]
  },
  {
   "cell_type": "code",
   "execution_count": 20,
   "metadata": {},
   "outputs": [
    {
     "name": "stdout",
     "output_type": "stream",
     "text": [
      "  teamId  teamName                     submissionDate       score      \n",
      "--------  ---------------------------  -------------------  ---------  \n",
      "11918923  NeuroChem                    2024-04-23 03:51:34  0.8810956  \n",
      "11921125  SaurabhMehra2001             2024-05-05 04:18:28  0.8726533  \n",
      "11918975  Yalla Chandra Sri Veerendra  2024-04-28 08:48:41  0.8712938  \n",
      "11981387  rupesh33                     2024-05-04 06:23:31  0.8708639  \n",
      "12019972  SJ                           2024-05-04 14:14:33  0.8634600  \n",
      "11918927  Mayur09                      2024-05-05 15:21:51  0.8626137  \n",
      "11918872  Aashish                      2024-05-05 21:03:50  0.8618084  \n",
      "11985911  Sachin Yadav                 2024-05-04 19:42:05  0.8596516  \n",
      "12028801  Sangram123                   2024-05-04 18:41:28  0.8596409  \n",
      "12061126  JAYANT KUMAR JHA             2024-05-04 15:49:51  0.8595774  \n",
      "11919489  Harsh Bundeliya              2024-05-04 10:41:47  0.8576460  \n",
      "11919256  Mohan Krishna katta          2024-05-05 19:41:32  0.8571979  \n",
      "11947814  xim                          2024-04-28 13:03:30  0.8542835  \n",
      "12058754  Yogesh R Jangid              2024-05-04 21:57:02  0.8493838  \n",
      "11918900  Shivam Negi                  2024-05-05 20:29:40  0.8486944  \n",
      "11929009  Tanmay Nath                  2024-05-05 13:06:50  0.8387976  \n",
      "11936804  Shubhamsss123                2024-05-04 20:30:58  0.8298651  \n",
      "11939796  sky verma                    2024-05-04 18:29:20  0.7893232  \n",
      "11960150  Rubul Gogoi                  2024-05-04 17:03:44  0.7839045  \n",
      "12003864  Akansh Verma                 2024-05-03 18:00:35  0.7730535  \n",
      "11988060  Abhishek sahu                2024-05-04 15:17:29  0.7651724  \n",
      "11919313  Abhi Sharma                  2024-05-03 15:14:10  0.7413594  \n",
      "11918976  min2 yadav                   2024-05-04 18:49:48  0.7384418  \n",
      "12005647  Atul__K__Maurya              2024-04-29 09:34:02  0.4537344  \n",
      "12010326  fenakerim                    2024-04-25 14:32:24  0.4453014  \n",
      "11923309  baseline_submission.csv      2024-04-08 17:17:16  0.4441296  \n",
      "11926993  Mayur_B                      2024-04-11 08:55:30  0.2619180  \n",
      "12028714  Pulkit006                    2024-05-04 21:06:48  0.1901904  \n"
     ]
    },
    {
     "name": "stderr",
     "output_type": "stream",
     "text": [
      "100%|██████████| 2.03M/2.03M [00:03<00:00, 690kB/s]\n"
     ]
    },
    {
     "name": "stdout",
     "output_type": "stream",
     "text": [
      "Successfully submitted to IE 506 (2024) Programming Challenge"
     ]
    },
    {
     "data": {
      "text/plain": [
       "CompletedProcess(args='kaggle competitions submit -c ie-506-2024-programming-challenge -f \"/home/23m1521/ashish/Kaggle/_3_IE506_2024_Programming_Challenge/dataset/submission_CCXGB_102.csv\" -m submission_CCXGB_102', returncode=0)"
      ]
     },
     "execution_count": 20,
     "metadata": {},
     "output_type": "execute_result"
    }
   ],
   "source": [
    "subprocess.run(cmd1, shell=True)\n",
    "subprocess.run(cmd2, shell=True)"
   ]
  }
 ],
 "metadata": {
  "kernelspec": {
   "display_name": "cuda_env",
   "language": "python",
   "name": "python3"
  },
  "language_info": {
   "codemirror_mode": {
    "name": "ipython",
    "version": 3
   },
   "file_extension": ".py",
   "mimetype": "text/x-python",
   "name": "python",
   "nbconvert_exporter": "python",
   "pygments_lexer": "ipython3",
   "version": "3.12.3"
  }
 },
 "nbformat": 4,
 "nbformat_minor": 2
}
